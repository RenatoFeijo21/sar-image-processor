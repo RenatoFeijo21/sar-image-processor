# Teste Sentinel-1

import rasterio
import matplotlib.pyplot as plt
from modules import pre_processing, cfar

with rasterio.open('../data/S1_image.tif') as src:
    img = src.read(1)

plt.imshow(img, cmap='gray')
plt.title('Sentinel-1 Original')
plt.show()

pre_processing.gerar_histograma(img)

result = cfar.cfar_process(img)
plt.imshow(result, cmap='gray')
plt.title('CFAR Processado')
plt.show()
