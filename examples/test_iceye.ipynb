# Teste ICEYE

import rasterio
import matplotlib.pyplot as plt
from modules import pre_processing, cfar

with rasterio.open('../data/ICEYE_image.tif') as src:
    img = src.read(1)

plt.imshow(img, cmap='gray')
plt.title('ICEYE Original')
plt.show()

pre_processing.gerar_histograma(img)

result = cfar.cfar_process(img)
plt.imshow(result, cmap='gray')
plt.title('CFAR Processado')
plt.show()
