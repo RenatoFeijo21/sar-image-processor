# Teste ICEYE

import rasterio
import matplotlib.pyplot as plt
from modules import pre_processing, cfar

# Caminho da imagem SAR ICEYE (ajuste conforme seu diretório local)
image_path = '../data/ICEYE_image.tif'

# Carregar a imagem para visualização e pré-processamento
with rasterio.open(image_path) as src:
    img = src.read(1)

plt.imshow(img, cmap='gray')
plt.title('ICEYE Original')
plt.show()

# Geração de histograma e ajuste de distribuições
pre_processing.gerar_histograma(img)

# Cálculo de estatísticas
media, var, desvio, enl = pre_processing.calcular_estatisticas(img)
print(f"Média: {media:.2f}, Variância: {var:.2f}, Desvio: {desvio:.2f}, ENL: {enl:.2f}")

# Processamento CFAR e salvamento automático como _CFARproc
result = cfar.cfar_process(image_path)

plt.imshow(result, cmap='gray')
plt.title('ICEYE CFAR Processado')
plt.show()
